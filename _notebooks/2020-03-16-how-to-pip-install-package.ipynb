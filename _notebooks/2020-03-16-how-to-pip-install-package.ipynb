{
 "nbformat": 4,
 "nbformat_minor": 2,
 "metadata": {
  "language_info": {
   "name": "python",
   "codemirror_mode": {
    "name": "ipython",
    "version": 3
   }
  },
  "orig_nbformat": 2,
  "file_extension": ".py",
  "mimetype": "text/x-python",
  "name": "python",
  "npconvert_exporter": "python",
  "pygments_lexer": "ipython3",
  "version": 3
 },
 "cells": [
  {
   "cell_type": "markdown",
   "metadata": {},
   "source": [
    "# 3 ways to pip install a package - fastai2 use-case\n",
    "> detailed description on how to pip install a package and to understand when to use each of the 3 methods for your own use-case.\n",
    "\n",
    "- toc: true \n",
    "- badges: true\n",
    "- comments: true\n",
    "- categories: [python]\n",
    "- author: Farid Hassainia, PhD"
   ]
  },
  {
   "cell_type": "markdown",
   "metadata": {},
   "source": [
    "## Introduction\n",
    "In this article, I will show 3 methods to install the new fastai2 library using `pip install`. The 3 methods described here can be used to similar python libraries found on GitHub. I voluntarily omitted the `conda install` option because I wanted too focus on methods that can be reproduced in free cloud environment such as Google Colab.\n"
   ]
  },
  {
   "cell_type": "markdown",
   "metadata": {},
   "source": [
    ">Note: In this article, the different methods described are generic and therefore can be applied to any python package published on Github repository. You only have to replace the name `fastai2` by the name of the corresponding python package (for example `torch`)"
   ]
  },
  {
   "cell_type": "markdown",
   "metadata": {},
   "source": [
    "## Method 1:\n",
    ">Note: The first method is the most common way to install a stable version of a python package. It will be widely used once fastai2 will be officially released.\n"
   ]
  },
  {
   "cell_type": "markdown",
   "metadata": {},
   "source": [
    "Although, fastai2 is still under development and its official release is expected this summer, it is important to be familiar with the present method especially if you will be using it in a production setting. It is also common to freeze install a package: installing a specific version a package (e.g `pip install torch== 1.4.0`). \n",
    "\n",
    "To install fastai2 from [fastai2 pypi repository] (https://pypi.org/project/fastai2/), type the following command either from:\n",
    "\n",
    "1.\tthe terminal:\n",
    "```python\n",
    "pip install fastai2\n",
    "```\n",
    "\n",
    "2.\tor from a Jupyter notebook cell:\n",
    "```python\n",
    "!pip install fastai2\n",
    "```\n",
    "\n",
    "The difference between the 2 options is the use of the `!` in the case of Jupyter notebook. However, the result is the same, the fastai2 package will be install in the current active environment. "
   ]
  },
  {
   "cell_type": "markdown",
   "metadata": {},
   "source": [
    ">Important: Activate the virtual environment of your choice before installing any python package. Lacking to do so, the package will be installed your current virtual environment. This means that most likely, it will be installed in the `base` virtual environment in Ananconda (`base` is the default virual environment created when you installed Anaconda)"
   ]
  },
  {
   "cell_type": "markdown",
   "metadata": {},
   "source": [
    "To check where the fastai2 package has been install, run the following command:\n",
    "\n",
    "```python\n",
    "pip show fastai2\n",
    "```\n",
    "\n",
    "This command displays some useful information:\n"
   ]
  },
  {
   "cell_type": "markdown",
   "metadata": {},
   "source": [
    "```python\n",
    "Name: fastai2\n",
    "Version: 0.0.11\n",
    "Summary: Version 2 of the fastai library\n",
    "Home-page: https://github.com/fastai/fastai2\n",
    "Author: Jeremy Howard, Sylvain Gugger, and contributors\n",
    "Author-email: info@fast.ai\n",
    "License: Apache Software License 2.0\n",
    "Location: /home/farid/anaconda3/envs/fastai2/lib/python3.6/site-packages\n",
    "Requires: scikit-learn, pandas, fastprogress, requests, scipy, pillow, torchvision, matplotlib, pyyaml, spacy, torch, fastcore\n",
    "Required-by:\n",
    "```"
   ]
  },
  {
   "cell_type": "markdown",
   "metadata": {},
   "source": [
    "It displays the package name, version number,  location where it was installed (with the name of the virtual environment: fastai2 is the name in my case), and other information.\n",
    "\n",
    ">Note: As of today (March 16th 2020), the fastai version found on the pypi repository is 0.0.11\n"
   ]
  },
  {
   "cell_type": "markdown",
   "metadata": {},
   "source": [
    "## Method 2:\n",
    "\n",
    ">Note: This method is used by users who are interested in new using the latest and the greatest features found the fastai2 Github repository. In general, they are interested in using the latest fastai2 package without the intention to build new modules that can be used as fastai2 extensions. If this sound a bit unclear, rest assured that everything will be crystal clear by the end of reading Method 3."
   ]
  },
  {
   "cell_type": "markdown",
   "metadata": {},
   "source": [
    "The second method consists in installing the fastai2 package from the [fastai2 GitHub repository]( https://github.com/fastai/fastai2). It begs the question: Why would we be interested in doing so. The answer is simple: If a python package is heavy development and changed in the source coder are introduced on a regular basis, chances are the package found on the pypi repository is lagging behind. In order to use the latest and the greatest version you can just install fastai2 from its GitHub repository."
   ]
  },
  {
   "cell_type": "markdown",
   "metadata": {},
   "source": [
    "To use a concrete example, at certain moment Jeremy shared a Kaggle kernel in order to show how to use a new developed module called medical. The latter was under development and was not available on the pypi repository. Therefore the solution was to advice the users to install the latest fastai2 version (that includes the medical module) by running the following command either on:\n",
    "\n",
    "1.\tthe terminal:\n",
    "```python\n",
    "pip install git+https://github.com/fastai/fastai2.git\n",
    "```\n",
    "\n",
    "2.\tor from a Jupyter notebook cell:\n",
    "```python \n",
    "!pip install git+https://github.com/fastai/fastai2.git\n",
    "```\n"
   ]
  },
  {
   "cell_type": "markdown",
   "metadata": {},
   "source": [
    "You might have already noticed that we replaced `fastai2` by ` git+https://github.com/fastai/fastai2.git` which means that you are installing the latest source code found in the fastai2 GitHub repository.\n",
    ">Important: When using this option, it is very important to also install the `fastcore` library` using the very same method:\n",
    "\n",
    "from the command line:\n",
    "```python\n",
    "pip install git+https://github.com/fastai/fastai2.git\n",
    "``` \n",
    "\n",
    "and from a Jupyter notebook cell:\n",
    "\n",
    "```python\n",
    "!pip install git+https://github.com/fastai/fastai2.git\n",
    "``` "
   ]
  },
  {
   "cell_type": "markdown",
   "metadata": {},
   "source": [
    "You may ask yourself why do we have to also install the fastcore library from GitHub given the fact that fastai2 will always install fastcore because it is part of its requirements. The answer is because fastai2 will install the latest version found in the pypi repository and not the latest version found on GitHub. If the fastai github version is using the new capabilities found in the fastcore latest GitHub version. This will lead to an incompatibility if you are using fastai latest GitHub version mixed with the fastcore pypi version, you will end up have some issues and some errors will surface. Therefore, better to have the habit to pip install both of them using the same method (method 2 in this case)"
   ]
  },
  {
   "cell_type": "markdown",
   "metadata": {},
   "source": [
    "## Method 3:\n",
    "\n",
    ">Note: This method is used by developers who are actively building new modules that depends on fastai2. These developers are usually actively adding features to their modules and want to make sure that their source code stay in sync with the fastai2 latest version. Lacking to do so, they will realize that their code is incompatible with fastai2 one.\n"
   ]
  },
  {
   "cell_type": "markdown",
   "metadata": {},
   "source": [
    "The goal is to keep your library (which depends on fastai2) aligned to the fastai2 one hand, and to avoid to keep pip installing both fastai2 and fastcore every time new version are released (this would have been the case had we used Method 2). There exists a magic method (Method 3) that consists in using a so-called editable version of both fastai2 and fastcore."
   ]
  },
  {
   "cell_type": "markdown",
   "metadata": {},
   "source": [
    "Installing an editable version of fastai2 is pretty straightforward. All we have to do is to follow these 3 simple steps, on a terminal console:\n",
    "```python\n",
    "git clone https://github.com/fastai/fastai2\n",
    "cd fastai2\n",
    "pip install -e .\n",
    " ```\n"
   ]
  },
  {
   "cell_type": "code",
   "execution_count": null,
   "metadata": {},
   "outputs": [],
   "source": []
  }
 ]
}