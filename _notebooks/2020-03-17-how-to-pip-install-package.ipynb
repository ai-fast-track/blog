{
 "nbformat": 4,
 "nbformat_minor": 2,
 "metadata": {
  "language_info": {
   "name": "python",
   "codemirror_mode": {
    "name": "ipython",
    "version": 3
   }
  },
  "orig_nbformat": 2,
  "file_extension": ".py",
  "mimetype": "text/x-python",
  "name": "python",
  "npconvert_exporter": "python",
  "pygments_lexer": "ipython3",
  "version": 3
 },
 "cells": [
  {
   "cell_type": "markdown",
   "metadata": {},
   "source": [
    "# 3 ways to pip install a package - fastai2 use-case\n",
    "> detailed description on how to pip install a package and to understand when to use each of the 3 methods for your own use-case.\n",
    "\n",
    "- toc: true \n",
    "- badges: true\n",
    "- comments: true\n",
    "- categories: [python]\n",
    "- author: Farid Hassainia, PhD"
   ]
  },
  {
   "cell_type": "markdown",
   "metadata": {},
   "source": [
    "## Introduction\n",
    "In this article, I will show 3 methods to install the new fastai2 library using `pip install`. The 3 methods described here can be used to similar python libraries found on GitHub. I voluntarily omitted the `conda install` option because I wanted too focus on methods that can be reproduced in free cloud environment such as Google Colab.\n"
   ]
  },
  {
   "cell_type": "markdown",
   "metadata": {},
   "source": [
    ">Note: In this article, the different methods described are generic and therefore can be applied to any python package published on Github repository. You only have to replace the name `fastai2` by the name of the corresponding python package (for example `torch`)"
   ]
  },
  {
   "cell_type": "markdown",
   "metadata": {},
   "source": [
    "## Method 1\n",
    ">Note: The first method is the most common way to install a stable version of a python package. It will be widely used once fastai2 will be officially released.\n"
   ]
  },
  {
   "cell_type": "markdown",
   "metadata": {},
   "source": [
    "Although, fastai2 is still under development and its official release is expected this summer, it is important to be familiar with the present method especially if you will be using it in a production setting. It is also common to freeze install a package: installing a specific version a package (e.g `pip install torch== 1.4.0`). \n",
    "\n",
    "To install fastai2 from [fastai2 pypi repository] (https://pypi.org/project/fastai2/), type the following command either from:\n",
    "\n",
    "1.\tthe terminal:\n",
    "```python\n",
    "pip install fastai2\n",
    "```\n",
    "\n",
    "2.\tor from a Jupyter notebook cell:\n",
    "```python\n",
    "!pip install fastai2\n",
    "```\n",
    "\n",
    "The difference between the 2 options is the use of the `!` in the case of Jupyter notebook. However, the result is the same, the fastai2 package will be install in the current active environment. "
   ]
  },
  {
   "cell_type": "markdown",
   "metadata": {},
   "source": [
    ">Important: Activate the virtual environment of your choice before installing any python package. Lacking to do so, the package will be installed your current virtual environment. This means that most likely, it will be installed in the `base` virtual environment in Ananconda (`base` is the default virual environment created when you installed Anaconda)"
   ]
  },
  {
   "cell_type": "markdown",
   "metadata": {},
   "source": [
    "To check where the fastai2 package has been install, run the following command:\n",
    "\n",
    "```python\n",
    "pip show fastai2\n",
    "```\n",
    "\n",
    "This command displays some useful information:\n"
   ]
  },
  {
   "cell_type": "markdown",
   "metadata": {},
   "source": [
    "```python\n",
    "Name: fastai2\n",
    "Version: 0.0.11\n",
    "Summary: Version 2 of the fastai library\n",
    "Home-page: https://github.com/fastai/fastai2\n",
    "Author: Jeremy Howard, Sylvain Gugger, and contributors\n",
    "Author-email: info@fast.ai\n",
    "License: Apache Software License 2.0\n",
    "Location: /home/farid/anaconda3/envs/fastai2/lib/python3.6/site-packages\n",
    "Requires: scikit-learn, pandas, fastprogress, requests, scipy, pillow, torchvision, matplotlib, pyyaml, spacy, torch, fastcore\n",
    "Required-by:\n",
    "```"
   ]
  },
  {
   "cell_type": "markdown",
   "metadata": {},
   "source": [
    "It displays the package name, version number,  location where it was installed (with the name of the virtual environment: fastai2 is the name in my case), and other information.\n",
    "\n",
    ">Note: As of today (March 16th 2020), the fastai version found on the pypi repository is 0.0.11\n"
   ]
  },
  {
   "cell_type": "markdown",
   "metadata": {},
   "source": [
    "## Method 2\n",
    "\n",
    ">Note: This method is used by users who are interested in new using the latest and the greatest features found the fastai2 Github repository. In general, they are interested in using the latest fastai2 package without the intention to build new modules that can be used as fastai2 extensions. If this sound a bit unclear, rest assured that everything will be crystal clear by the end of reading Method 3."
   ]
  },
  {
   "cell_type": "markdown",
   "metadata": {},
   "source": [
    "The second method consists in installing the fastai2 package from the [fastai2 GitHub repository]( https://github.com/fastai/fastai2). It begs the question: Why would we be interested in doing so. The answer is simple: If a python package is heavy development and changed in the source coder are introduced on a regular basis, chances are the package found on the pypi repository is lagging behind. In order to use the latest and the greatest version you can just install fastai2 from its GitHub repository."
   ]
  },
  {
   "cell_type": "markdown",
   "metadata": {},
   "source": [
    "To use a concrete example, at certain moment Jeremy shared a Kaggle kernel in order to show how to use a new developed module called medical. The latter was under development and was not available on the pypi repository. Therefore the solution was to advice the users to install the latest fastai2 version (that includes the medical module) by running the following command either on:\n",
    "\n",
    "1.\tthe terminal:\n",
    "```python\n",
    "pip install git+https://github.com/fastai/fastai2.git\n",
    "```\n",
    "\n",
    "2.\tor from a Jupyter notebook cell:\n",
    "```python \n",
    "!pip install git+https://github.com/fastai/fastai2.git\n",
    "```\n"
   ]
  },
  {
   "cell_type": "markdown",
   "metadata": {},
   "source": [
    "You might have already noticed that we replaced `fastai2` by ` git+https://github.com/fastai/fastai2.git` which means that you are installing the latest source code found in the fastai2 GitHub repository.\n",
    ">Important: When using this option, it is very important to also install the `fastcore` library` using the very same method:\n",
    "\n",
    "\n",
    "from the command line:\n",
    "```python\n",
    "pip install git+https://github.com/fastai/fastai2.git\n",
    "``` \n",
    "\n",
    "and from a Jupyter notebook cell:\n",
    "```python\n",
    "!pip install git+https://github.com/fastai/fastai2.git\n",
    "``` "
   ]
  },
  {
   "cell_type": "markdown",
   "metadata": {},
   "source": [
    "You may ask yourself why do we have to also install the fastcore library from GitHub given the fact that fastai2 will always install fastcore because it is part of its requirements. The answer is because fastai2 will install the latest version found in the pypi repository and not the latest version found on GitHub. If the fastai github version is using the new capabilities found in the fastcore latest GitHub version. This will lead to an incompatibility if you are using fastai latest GitHub version mixed with the fastcore pypi version, you will end up have some issues and some errors will surface. Therefore, better to have the habit to pip install both of them using the same method (method 2 in this case)"
   ]
  },
  {
   "cell_type": "markdown",
   "metadata": {},
   "source": [
    "## Method 3\n",
    "\n",
    ">Note: This method is used by developers who are actively building new modules that depends on fastai2. These developers are usually actively adding features to their modules and want to make sure that their source code stay in sync with the fastai2 latest version. Lacking to do so, they will realize that their code is incompatible with fastai2 one.\n"
   ]
  },
  {
   "cell_type": "markdown",
   "metadata": {},
   "source": [
    "The goal is to keep your library (which depends on fastai2) aligned to the fastai2 one hand, and to avoid to keep pip installing both fastai2 and fastcore every time new version are released (this would have been the case had we used Method 2). There exists a magic method (Method 3) that consists in using a so-called editable version of both fastai2 and fastcore."
   ]
  },
  {
   "cell_type": "markdown",
   "metadata": {},
   "source": [
    "Installing an editable version of fastai2 is pretty straightforward. All we have to do is to follow these 3 simple steps, on a terminal console:\n",
    "```python\n",
    "git clone https://github.com/fastai/fastai2\n",
    "cd fastai2\n",
    "pip install -e .\n",
    " ```\n"
   ]
  },
  {
   "cell_type": "markdown",
   "metadata": {},
   "source": [
    "Basically, we are cloning the fastai2 repository, then hopping into the fastai2 folder, finally issuing the command to pip install the package (fastai2) from the current folder (hence the use of the dot `.`) as an editable version by using the `-e` switch."
   ]
  },
  {
   "cell_type": "markdown",
   "metadata": {},
   "source": [
    "We also to follow the same steps for the fastcore library:\n",
    " \n",
    "```python\n",
    "git clone https://github.com/fastai/fastcore\n",
    "cd fastcore\n",
    "pip install -e .\n",
    "```\n"
   ]
  },
  {
   "cell_type": "markdown",
   "metadata": {},
   "source": [
    "For those following along and who are familiar with this option, they might notice that there is a discrepancy between this method and the one found on the fastai2 repository:\n",
    "\n",
    "```python\n",
    "git clone https://github.com/fastai/fastai2\n",
    "cd fastai2\n",
    "pip install -e \".[dev]\"\n",
    "```\n",
    "\n",
    "Using the `[dev]` flag issue an order to the installer to pip install all the package listed under the dev requirements (`dev_requirements = nbdev`). This means the `nbdev` package (its a fastai package) will be installed from the pypi repository. Given the fact that nbdev is also under heavy development, we may experienced some issues caused by a misalignment between the 3 different fastai pacjkages being fastai2, fastcore, and nbdev. For that reason, it is desirable to also install the nbdev package as an editable package as follow:\n",
    "\n",
    "```python\n",
    "git clone https://github.com/fastai/nbdev\n",
    "cd nbdev\n",
    "pip install -e .\n",
    "```\n"
   ]
  },
  {
   "cell_type": "markdown",
   "metadata": {},
   "source": [
    "Now that we installed our editable package, how are we going to update it. The answer is very straightforward, we pull our latest version from the corresponding GitHub repository. Therefore, for the fastai2 package, we just have to hop to the forder where we clone the original repo, and  we run the following command:\n",
    "\n",
    "```python\n",
    "git pull\n",
    "```\n",
    "This command will both update our repo and update our editable package has the version changed. We have to run the command, here above, for both fastai2 and fastcore.\n"
   ]
  },
  {
   "cell_type": "markdown",
   "metadata": {},
   "source": [
    "## Appendix A: How to install Anaconda"
   ]
  },
  {
   "cell_type": "markdown",
   "metadata": {},
   "source": [
    "### On linux\n",
    "\n",
    "```python\n",
    "$ curl -O https://repo.anaconda.com/archive/Anaconda3-2019.10-Linux-x86_64.sh\n",
    "\n",
    "$ sha256sum Anaconda3-2019.10-Linux-x86_64.sh\n",
    "46d762284d252e51cd58a8ca6c8adc9da2eadc82c342927b2f66ed011d1d8b53  Anaconda3-2019.10-Linux-x86_64.sh\n",
    "\n",
    "$ bash Anaconda3-2019.10-Linux-x86_64.sh\n",
    "$ source ~/.bashrc\n",
    "```\n"
   ]
  },
  {
   "cell_type": "markdown",
   "metadata": {},
   "source": [
    "### On Windows\n",
    "\n",
    "- Download Anaconda Windows installer [here](https://www.anaconda.com/distribution/#download-section) \n",
    "- Select Python 3.6 or higher \n",
    "- Run the installer and follow the instructions"
   ]
  },
  {
   "cell_type": "markdown",
   "metadata": {},
   "source": [
    "## Appendix B: Create a conda virtual enviroment"
   ]
  },
  {
   "cell_type": "markdown",
   "metadata": {},
   "source": [
    "On both Linux and Windows run the following commands:\n",
    "\n",
    "```python\n",
    "conda create -n fastai2 python=3.6 anaconda\n",
    "conda activate fastai2\n",
    "```"
   ]
  },
  {
   "cell_type": "markdown",
   "metadata": {},
   "source": [
    ">Tip: You can choose with version of python you would like to install. In the case above, the version 3.6 will be installed"
   ]
  },
  {
   "cell_type": "markdown",
   "metadata": {},
   "source": [
    "## Appendix C: Useful conda commands"
   ]
  },
  {
   "cell_type": "markdown",
   "metadata": {},
   "source": [
    "- Install a python package (e.g. fastai2) from the pypi repository:\n",
    "\n",
    "```python\n",
    "pip install fastai\n",
    "```\n",
    "\n",
    "- Uninstall a python package (e.g. fastai2):\n",
    "\n",
    "```python\n",
    "pip uninstall fastai2\n",
    "```\n",
    "\n",
    "- Show some information about a package (e.g. fastai2)\n",
    "\n",
    "```\n",
    "Pip show fastai2\n",
    "```\n",
    "\n",
    "This is what it displayed on my machine, at the moment of publishing the present post:\n",
    "\n",
    "```python\n",
    "Name: fastai2\n",
    "Version: 0.0.11\n",
    "Summary: Version 2 of the fastai library\n",
    "Home-page: https://github.com/fastai/fastai2\n",
    "Author: Jeremy Howard, Sylvain Gugger, and contributors\n",
    "Author-email: info@fast.ai\n",
    "License: Apache Software License 2.0\n",
    "Location: /home/farid/anaconda3/envs/fastai2/lib/python3.6/site-packages\n",
    "Requires: scikit-learn, pandas, fastprogress, requests, scipy, pillow, torchvision, matplotlib, pyyaml, spacy, torch, fastcore\n",
    "Required-by:\n",
    "```\n"
   ]
  },
  {
   "cell_type": "markdown",
   "metadata": {},
   "source": [
    "## Appendix D: Useful conda commands"
   ]
  },
  {
   "cell_type": "markdown",
   "metadata": {},
   "source": [
    "- Create a conda virtual environment called `fastai2` with python 3.6 version\n",
    "\n",
    "```python\n",
    "conda create -n fastai2 python=3.6 anaconda\n",
    "```\n",
    "\n",
    "- Activate a conda virtual environment called `fastai2`\n",
    "\n",
    "```python\n",
    "conda activate fastai2\n",
    "```\n",
    "\n",
    "- List all the conda virtual environments\n",
    "\n",
    "```python\n",
    "conda env list\n",
    "```\n",
    "\n",
    "- List all the packages installed in the current conda virtual environments\n",
    "\n",
    "```python\n",
    "conda list\n",
    "```\n",
    "\n",
    "- Install a python package (e.g. torch) from the pypi repository:\n",
    "\n",
    "```python\n",
    "conda install torch -c torch\n",
    "```\n",
    "-c : indicate which channel to use to install the corresponding package\n",
    "\n",
    "- Uninstall a python package (e.g. torch):\n",
    "\n",
    "```python\n",
    "conda uninstall torch\n",
    "```\n",
    "\n",
    "- List all the packages installed that start with `fast` in the current conda virtual environments\n",
    "\n",
    "```python\n",
    "conda list fast\n",
    "```\n",
    "\n",
    "This is what it is presently displayed on machine:\n",
    "\n",
    "```python\n",
    "# Name              Version                 Build  Channel\n",
    "fastai2             0.0.12                  dev_0    <develop>\n",
    "fastcache           1.1.0                   py36h7b6447c_0\n",
    "fastcore            0.1.15                  dev_0    <develop>\n",
    "fastprogress        0.2.2                   pypi_0    pypi\n",
    "fastscript          0.1.4                   pypi_0    pypi\n",
    "```\n"
   ]
  },
  {
   "cell_type": "markdown",
   "metadata": {},
   "source": [
    "> Note: You might have noticed that both my fastai2 and fastcore package share the same name of the Build Channel: **dev_0** which means that they both are editable versions."
   ]
  },
  {
   "cell_type": "markdown",
   "metadata": {},
   "source": [
    "## Conclusion\n",
    "This is an overview that describes 3 methods to install any released package. In this article, I described the fastai2 library use-case. fastai2 is still under development. I also explained the goal of each of these 3 methods, and how to select which method is more suitable to your specific use-case. "
   ]
  },
  {
   "cell_type": "code",
   "execution_count": null,
   "metadata": {},
   "outputs": [],
   "source": []
  }
 ]
}